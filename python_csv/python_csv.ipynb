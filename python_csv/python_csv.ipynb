{
 "cells": [
  {
   "cell_type": "code",
   "execution_count": 34,
   "id": "2f4207a1",
   "metadata": {},
   "outputs": [],
   "source": [
    "import pandas as pd\n",
    "import numpy as np"
   ]
  },
  {
   "cell_type": "code",
   "execution_count": 35,
   "id": "6c62ef2b",
   "metadata": {},
   "outputs": [],
   "source": [
    "url = \"https://en.wikipedia.org/wiki/Comma-separated_values\""
   ]
  },
  {
   "cell_type": "code",
   "execution_count": 38,
   "id": "5800a2e8",
   "metadata": {},
   "outputs": [],
   "source": [
    "df = pd.read_html(url)\n",
    "wikitable = df[1] "
   ]
  },
  {
   "cell_type": "code",
   "execution_count": 39,
   "id": "b05bcc91",
   "metadata": {},
   "outputs": [],
   "source": [
    "wikitable.to_csv(\"python_csv.csv\")"
   ]
  }
 ],
 "metadata": {
  "kernelspec": {
   "display_name": "Python 3 (ipykernel)",
   "language": "python",
   "name": "python3"
  },
  "language_info": {
   "codemirror_mode": {
    "name": "ipython",
    "version": 3
   },
   "file_extension": ".py",
   "mimetype": "text/x-python",
   "name": "python",
   "nbconvert_exporter": "python",
   "pygments_lexer": "ipython3",
   "version": "3.9.12"
  }
 },
 "nbformat": 4,
 "nbformat_minor": 5
}
